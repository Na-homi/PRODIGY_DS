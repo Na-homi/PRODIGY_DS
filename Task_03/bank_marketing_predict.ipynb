{
 "cells": [
  {
   "cell_type": "code",
   "execution_count": 1,
   "metadata": {},
   "outputs": [],
   "source": [
    "# Import the necessary libraries\n",
    "\n",
    "import joblib\n",
    "import pandas as pd\n",
    "from sklearn.preprocessing import LabelEncoder, OneHotEncoder"
   ]
  },
  {
   "cell_type": "code",
   "execution_count": 2,
   "metadata": {},
   "outputs": [
    {
     "name": "stdout",
     "output_type": "stream",
     "text": [
      "Model loaded successfully\n"
     ]
    }
   ],
   "source": [
    "# Load the trained model\n",
    "model = joblib.load('best_dt.pkl')\n",
    "print(\"Model loaded successfully\")"
   ]
  },
  {
   "cell_type": "code",
   "execution_count": 3,
   "metadata": {},
   "outputs": [
    {
     "name": "stdout",
     "output_type": "stream",
     "text": [
      "New customer DataFrame created successfully\n"
     ]
    }
   ],
   "source": [
    "# Create a new customer DataFrame with the correct structure\n",
    "new_customer = pd.DataFrame({\n",
    "    'age': [35, 42, 28],  \n",
    "    'job': ['admin.', 'technician', 'retired'],  \n",
    "    'marital': ['married', 'single', 'divorced'],\n",
    "    'education': ['high.school', 'basic.6y', 'university.degree'],\n",
    "    'default': ['no', 'no', 'yes'],\n",
    "    'housing': ['yes', 'no', 'yes'],\n",
    "    'loan': ['no', 'yes', 'no'],\n",
    "    'contact': ['cellular', 'telephone', 'cellular'],\n",
    "    'month': ['may', 'jul', 'jun'],\n",
    "    'day_of_week': ['mon', 'wed', 'fri'],  # Fixed column name\n",
    "    'duration': [250, 180, 500],\n",
    "    'campaign': [1, 3, 2],\n",
    "    'pdays': [-1, 200, -1],\n",
    "    'previous': [0, 2, 1],\n",
    "    'poutcome': ['unknown', 'failure', 'success'],\n",
    "    'emp.var.rate': [-1.8, 1.1, 0.5],  \n",
    "    'cons.price.idx': [92.89, 93.44, 93.20],  \n",
    "    'cons.conf.idx': [-46.2, -36.4, -40.0],  \n",
    "    'euribor3m': [1.25, 4.85, 2.10],  \n",
    "    'nr.employed': [5099.1, 5228.1, 5195.8]\n",
    "})\n",
    "\n",
    "print(\"New customer DataFrame created successfully\")"
   ]
  },
  {
   "cell_type": "code",
   "execution_count": 4,
   "metadata": {},
   "outputs": [],
   "source": [
    "# Label encode Education\n",
    "\n",
    "# Define the order of education levels\n",
    "education_order = ['basic.6y', 'high.school', 'university.degree']\n",
    "\n",
    "# Apply label encoding based on this order\n",
    "new_customer['education'] = new_customer['education'].apply(lambda x: education_order.index(x))"
   ]
  },
  {
   "cell_type": "code",
   "execution_count": 5,
   "metadata": {},
   "outputs": [],
   "source": [
    "# One-Hot Encoding for other Categorical Columns\n",
    "new_customer = pd.get_dummies(new_customer, columns = ['job', 'marital', 'contact', 'month', 'day_of_week', 'poutcome'], drop_first=True)\n"
   ]
  },
  {
   "cell_type": "code",
   "execution_count": 6,
   "metadata": {},
   "outputs": [],
   "source": [
    "# Convert 'yes'/'no' columns to numeric\n",
    "new_customer[\"housing\"] = new_customer[\"housing\"].map({\"yes\": 1, \"no\": 0})\n",
    "new_customer[\"loan\"] = new_customer[\"loan\"].map({\"yes\": 1, \"no\": 0})\n"
   ]
  },
  {
   "cell_type": "code",
   "execution_count": 7,
   "metadata": {},
   "outputs": [
    {
     "data": {
      "text/plain": [
       "(3, 25)"
      ]
     },
     "execution_count": 7,
     "metadata": {},
     "output_type": "execute_result"
    }
   ],
   "source": [
    "new_customer.shape"
   ]
  },
  {
   "cell_type": "code",
   "execution_count": 9,
   "metadata": {},
   "outputs": [],
   "source": [
    "original_features = joblib.load('features.pkl')  \n",
    "new_customer = new_customer.reindex(columns=original_features, fill_value=0)  # Ensure alignment with the original features"
   ]
  },
  {
   "cell_type": "code",
   "execution_count": 11,
   "metadata": {},
   "outputs": [
    {
     "name": "stdout",
     "output_type": "stream",
     "text": [
      "[0 0 0]\n",
      "[[1. 0.]\n",
      " [1. 0.]\n",
      " [1. 0.]]\n"
     ]
    }
   ],
   "source": [
    "# Make predictions\n",
    "best_dt = joblib.load('best_dt.pkl')  \n",
    "predictions = best_dt.predict(new_customer)  \n",
    "probabilities = best_dt.predict_proba(new_customer)  \n",
    "print(predictions)  \n",
    "print(probabilities)\n"
   ]
  },
  {
   "cell_type": "markdown",
   "metadata": {},
   "source": [
    "**Interpretation of Results**\n",
    "\n",
    "The model predicts 0 for all three new customer entries, indicating that it classifies them as not subscribing (no) to the bank’s term deposit.\n",
    "\n",
    "Observations:\n",
    "- The probability scores suggest that the model is highly confident in predicting class 0 (no subscription) for all cases.\n",
    "- If the dataset is imbalanced, the model may have learned to favor the majority class, leading to biased predictions.\n",
    "- Despite applying SMOTE (to balance the dataset) and hyperparameter tuning (to optimize model performance), the predictions remain the same, suggesting that the model may still be influenced by class distribution.\n",
    "- Further investigation into feature importance is necessary to determine whether certain features are disproportionately affecting the predictions.\n",
    "\n",
    "This analysis highlights the need for additional model evaluation, potentially exploring alternative algorithms or further adjustments to improve predictive performance."
   ]
  }
 ],
 "metadata": {
  "kernelspec": {
   "display_name": "base",
   "language": "python",
   "name": "python3"
  },
  "language_info": {
   "codemirror_mode": {
    "name": "ipython",
    "version": 3
   },
   "file_extension": ".py",
   "mimetype": "text/x-python",
   "name": "python",
   "nbconvert_exporter": "python",
   "pygments_lexer": "ipython3",
   "version": "3.12.7"
  }
 },
 "nbformat": 4,
 "nbformat_minor": 2
}
